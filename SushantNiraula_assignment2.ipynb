{
  "cells": [
    {
      "cell_type": "code",
      "execution_count": null,
      "metadata": {
        "id": "LVbLTxHD4SZs"
      },
      "outputs": [],
      "source": [
        "# NumPy and Pandas Assignment\n",
        "# Complete the following tasks by filling in the code where indicated.\n",
        "# Ensure your notebook is well-documented with markdown cells explaining your code and results.\n",
        "\n",
        "import numpy as np\n",
        "import pandas as pd"
      ]
    },
    {
      "cell_type": "markdown",
      "metadata": {
        "id": "50PKbPTX4SZx"
      },
      "source": [
        "# Task 1: NumPy Basics"
      ]
    },
    {
      "cell_type": "code",
      "execution_count": null,
      "metadata": {
        "id": "SOvw6IZX4SZz",
        "outputId": "10836402-f730-4384-9128-d013228d0cb4"
      },
      "outputs": [
        {
          "name": "stdout",
          "output_type": "stream",
          "text": [
            "1D Array: [1 2 3 4 5]\n"
          ]
        }
      ],
      "source": [
        "# 1. Array Creation\n",
        "# Create a 1D and a 2D NumPy array\n",
        "arr_1d = np.array([1, 2, 3, 4, 5])\n",
        "print(\"1D Array:\", arr_1d)"
      ]
    },
    {
      "cell_type": "code",
      "execution_count": null,
      "metadata": {
        "id": "-oHdKE314SZ1",
        "outputId": "92689612-e8dc-4dbb-fbe2-ebb0b0868cc4"
      },
      "outputs": [
        {
          "name": "stdout",
          "output_type": "stream",
          "text": [
            "2D Array:\n",
            " [[1 2 3]\n",
            " [4 5 6]]\n"
          ]
        }
      ],
      "source": [
        "arr_2d = np.array([[1, 2, 3], [4, 5, 6]])\n",
        "print(\"2D Array:\\n\", arr_2d)"
      ]
    },
    {
      "cell_type": "code",
      "execution_count": null,
      "metadata": {
        "id": "dPMDl0MH4SZ2",
        "outputId": "4dffabbd-d001-4ed6-c15d-dbb0b4a0e40d"
      },
      "outputs": [
        {
          "name": "stdout",
          "output_type": "stream",
          "text": [
            "1D Array + 10: [11 12 13 14 15]\n",
            "2D Array * 2:\n",
            " [[ 2  4  6]\n",
            " [ 8 10 12]]\n"
          ]
        }
      ],
      "source": [
        "# 2. Array Operations\n",
        "# Perform basic arithmetic operations on the arrays\n",
        "arr_1d_add = arr_1d + 10\n",
        "arr_2d_mult = arr_2d * 2\n",
        "print(\"1D Array + 10:\", arr_1d_add)\n",
        "print(\"2D Array * 2:\\n\", arr_2d_mult)"
      ]
    },
    {
      "cell_type": "code",
      "execution_count": null,
      "metadata": {
        "id": "Lvxb1q_R4SZ3",
        "outputId": "73e94d78-8604-432e-c1c5-a90a5334aaa7"
      },
      "outputs": [
        {
          "name": "stdout",
          "output_type": "stream",
          "text": [
            "First element of 1D array: 1\n",
            "First row of 2D array:\n",
            " [1 2 3]\n"
          ]
        }
      ],
      "source": [
        "# 3. Indexing and Slicing\n",
        "# Demonstrate indexing and slicing on the arrays\n",
        "print(\"First element of 1D array:\", arr_1d[0])\n",
        "print(\"First row of 2D array:\\n\", arr_2d[0, :])"
      ]
    },
    {
      "cell_type": "code",
      "execution_count": null,
      "metadata": {
        "id": "QFp3soeF4SZ3",
        "outputId": "bcb5e33d-d99d-4119-8667-d5023bc0963f"
      },
      "outputs": [
        {
          "name": "stdout",
          "output_type": "stream",
          "text": [
            "Shape of 2D array: (2, 3)\n",
            "Reshaped 2D Array:\n",
            " [[1 2]\n",
            " [3 4]\n",
            " [5 6]]\n"
          ]
        }
      ],
      "source": [
        "# 4. Shape and Reshape\n",
        "# Show how to check the shape of an array and reshape it\n",
        "print(\"Shape of 2D array:\", arr_2d.shape)\n",
        "reshaped_arr = arr_2d.reshape((3, 2))\n",
        "print(\"Reshaped 2D Array:\\n\", reshaped_arr)"
      ]
    },
    {
      "cell_type": "markdown",
      "metadata": {
        "id": "5ElVIRm-4SZ4"
      },
      "source": [
        "# Task 2: Pandas Basics"
      ]
    },
    {
      "cell_type": "code",
      "execution_count": null,
      "metadata": {
        "id": "PL2vyT3h4SZ5",
        "outputId": "0af11aab-708a-40bb-bb09-ebd76336baaa"
      },
      "outputs": [
        {
          "name": "stdout",
          "output_type": "stream",
          "text": [
            "Pandas Series:\n",
            " 0    1\n",
            "1    2\n",
            "2    3\n",
            "3    4\n",
            "4    5\n",
            "dtype: int64\n",
            "Pandas DataFrame:\n",
            "    A  B  C\n",
            "0  1  4  7\n",
            "1  2  5  8\n",
            "2  3  6  9\n"
          ]
        }
      ],
      "source": [
        "# 1. Series and DataFrame Creation\n",
        "# Create a Pandas Series and DataFrame\n",
        "s = pd.Series([1, 2, 3, 4, 5])\n",
        "print(\"Pandas Series:\\n\", s)\n",
        "\n",
        "df = pd.DataFrame({\n",
        "    'A': [1, 2, 3],\n",
        "    'B': [4, 5, 6],\n",
        "    'C': [7, 8, 9]\n",
        "})\n",
        "print(\"Pandas DataFrame:\\n\", df)"
      ]
    },
    {
      "cell_type": "code",
      "execution_count": null,
      "metadata": {
        "id": "gmsAuguj4SZ6",
        "outputId": "4445c48e-9127-48f2-a337-9d4bb5d318d1"
      },
      "outputs": [
        {
          "name": "stdout",
          "output_type": "stream",
          "text": [
            "Read DataFrame from CSV:\n",
            "    A  B  C\n",
            "0  1  4  7\n",
            "1  2  5  8\n",
            "2  3  6  9\n"
          ]
        }
      ],
      "source": [
        "# 2. Reading Data\n",
        "# Read data from a CSV file (ensure you have a sample CSV file in your repository)\n",
        "df_read = pd.read_csv('Sample_Data.csv')\n",
        "print(\"Read DataFrame from CSV:\\n\", df_read)"
      ]
    },
    {
      "cell_type": "code",
      "execution_count": null,
      "metadata": {
        "id": "-0QSLCMs4SZ6",
        "outputId": "37b42e36-37a6-41a5-a55c-6eba638e7d32"
      },
      "outputs": [
        {
          "name": "stdout",
          "output_type": "stream",
          "text": [
            "Read DataFrame from CSV:\n",
            "    A  B  C\n",
            "0  1  4  7\n",
            "1  2  5  8\n",
            "2  3  6  9\n"
          ]
        }
      ],
      "source": [
        "# 2. Reading Data\n",
        "# Read data from a CSV file (ensure you have a sample CSV file in your repository)\n",
        "df_read = pd.read_csv('sample_data.csv')\n",
        "print(\"Read DataFrame from CSV:\\n\", df_read)"
      ]
    },
    {
      "cell_type": "code",
      "execution_count": null,
      "metadata": {
        "id": "cLOPGPaM4SZ7",
        "outputId": "1b7c6cbd-8e04-4470-de9f-c23a172a51ed"
      },
      "outputs": [
        {
          "name": "stdout",
          "output_type": "stream",
          "text": [
            "Head of DataFrame:\n",
            "    A  B  C\n",
            "0  1  4  7\n",
            "1  2  5  8\n",
            "2  3  6  9\n",
            "<class 'pandas.core.frame.DataFrame'>\n",
            "RangeIndex: 3 entries, 0 to 2\n",
            "Data columns (total 3 columns):\n",
            " #   Column  Non-Null Count  Dtype\n",
            "---  ------  --------------  -----\n",
            " 0   A       3 non-null      int64\n",
            " 1   B       3 non-null      int64\n",
            " 2   C       3 non-null      int64\n",
            "dtypes: int64(3)\n",
            "memory usage: 204.0 bytes\n",
            "Info of DataFrame:\n",
            " None\n",
            "Description of DataFrame:\n",
            "          A    B    C\n",
            "count  3.0  3.0  3.0\n",
            "mean   2.0  5.0  8.0\n",
            "std    1.0  1.0  1.0\n",
            "min    1.0  4.0  7.0\n",
            "25%    1.5  4.5  7.5\n",
            "50%    2.0  5.0  8.0\n",
            "75%    2.5  5.5  8.5\n",
            "max    3.0  6.0  9.0\n"
          ]
        }
      ],
      "source": [
        "# 3. Data Inspection\n",
        "# Perform basic data inspection methods\n",
        "print(\"Head of DataFrame:\\n\", df.head())\n",
        "print(\"Info of DataFrame:\\n\", df.info())\n",
        "print(\"Description of DataFrame:\\n\", df.describe())"
      ]
    },
    {
      "cell_type": "code",
      "execution_count": null,
      "metadata": {
        "id": "uxK2E-8a4SZ8",
        "outputId": "7b5370f6-a9dd-4358-d177-c01ece30c590"
      },
      "outputs": [
        {
          "name": "stdout",
          "output_type": "stream",
          "text": [
            "Column A:\n",
            " 0    1\n",
            "1    2\n",
            "2    3\n",
            "Name: A, dtype: int64\n",
            "Columns A and B:\n",
            "    A  B\n",
            "0  1  4\n",
            "1  2  5\n",
            "2  3  6\n"
          ]
        }
      ],
      "source": [
        "# 4. Data Manipulation\n",
        "# Selecting Data\n",
        "print(\"Column A:\\n\", df['A'])\n",
        "print(\"Columns A and B:\\n\", df[['A', 'B']])"
      ]
    },
    {
      "cell_type": "code",
      "execution_count": null,
      "metadata": {
        "id": "lkz6KZ7R4SZ8",
        "outputId": "f00f3b4e-c559-4382-eecc-dbb1aed96a92"
      },
      "outputs": [
        {
          "name": "stdout",
          "output_type": "stream",
          "text": [
            "Filtered DataFrame (A > 1):\n",
            "    A  B  C\n",
            "1  2  5  8\n",
            "2  3  6  9\n"
          ]
        }
      ],
      "source": [
        "# Filtering Data\n",
        "filtered_df = df[df['A'] > 1]\n",
        "print(\"Filtered DataFrame (A > 1):\\n\", filtered_df)"
      ]
    },
    {
      "cell_type": "code",
      "execution_count": null,
      "metadata": {
        "id": "-oUHBpPY4SZ9",
        "outputId": "389689f9-792e-481e-9b29-6248bf8ac3fa"
      },
      "outputs": [
        {
          "name": "stdout",
          "output_type": "stream",
          "text": [
            "DataFrame with new column D:\n",
            "    A  B  C  D\n",
            "0  1  4  7  5\n",
            "1  2  5  8  7\n",
            "2  3  6  9  9\n",
            "DataFrame after dropping column D:\n",
            "    A  B  C\n",
            "0  1  4  7\n",
            "1  2  5  8\n",
            "2  3  6  9\n"
          ]
        }
      ],
      "source": [
        "# Adding/Removing Columns\n",
        "df['D'] = df['A'] + df['B']\n",
        "print(\"DataFrame with new column D:\\n\", df)\n",
        "df.drop('D', axis=1, inplace=True)\n",
        "print(\"DataFrame after dropping column D:\\n\", df)"
      ]
    },
    {
      "cell_type": "code",
      "execution_count": null,
      "metadata": {
        "id": "gnKnPsvX4SZ9",
        "outputId": "3fce706a-bc7b-4729-9d5c-8952492f6193"
      },
      "outputs": [
        {
          "name": "stdout",
          "output_type": "stream",
          "text": [
            "DataFrame with NaN:\n",
            "    A    B  C\n",
            "0  1  4.0  7\n",
            "1  2  NaN  8\n",
            "2  3  6.0  9\n",
            "DataFrame after dropping NaN:\n",
            "    A    B  C\n",
            "0  1  4.0  7\n",
            "2  3  6.0  9\n",
            "DataFrame after filling NaN with 0:\n",
            "    A    B  C\n",
            "0  1  4.0  7\n",
            "1  2  0.0  8\n",
            "2  3  6.0  9\n"
          ]
        }
      ],
      "source": [
        "# Handling Missing Data\n",
        "df_with_nan = df.copy()\n",
        "df_with_nan.loc[1, 'B'] = np.nan\n",
        "print(\"DataFrame with NaN:\\n\", df_with_nan)\n",
        "print(\"DataFrame after dropping NaN:\\n\", df_with_nan.dropna())\n",
        "print(\"DataFrame after filling NaN with 0:\\n\", df_with_nan.fillna(0))"
      ]
    },
    {
      "cell_type": "markdown",
      "metadata": {
        "id": "X-Ll27Rl4SZ-"
      },
      "source": [
        "# Task 3: Data Analysis with Pandas"
      ]
    },
    {
      "cell_type": "code",
      "execution_count": null,
      "metadata": {
        "id": "EZMXYbUI4SZ-",
        "outputId": "4d001193-4718-48c4-9a8d-245e76e06d0a"
      },
      "outputs": [
        {
          "name": "stdout",
          "output_type": "stream",
          "text": [
            "Mean of column A: 2.0\n",
            "Sum of column A: 6\n"
          ]
        }
      ],
      "source": [
        "# Aggregations\n",
        "print(\"Mean of column A:\", df['A'].mean())\n",
        "print(\"Sum of column A:\", df['A'].sum())"
      ]
    },
    {
      "cell_type": "code",
      "execution_count": null,
      "metadata": {
        "id": "qzLJiFIz4SZ_",
        "outputId": "75cdeaa4-bd8f-42c2-810a-430d1a3087ee"
      },
      "outputs": [
        {
          "name": "stdout",
          "output_type": "stream",
          "text": [
            "Merged DataFrame:\n",
            "   key  value_x  value_y\n",
            "0   A        1        4\n",
            "1   B        2        5\n"
          ]
        }
      ],
      "source": [
        "# Merging and Joining\n",
        "df1 = pd.DataFrame({'key': ['A', 'B', 'C'], 'value': [1, 2, 3]})\n",
        "df2 = pd.DataFrame({'key': ['A', 'B', 'D'], 'value': [4, 5, 6]})\n",
        "merged_df = pd.merge(df1, df2, on='key', how='inner')\n",
        "print(\"Merged DataFrame:\\n\", merged_df)"
      ]
    },
    {
      "cell_type": "code",
      "execution_count": null,
      "metadata": {
        "id": "Aq2m290Q4SZ_",
        "outputId": "6dc16052-a2d6-4a69-ad3c-16890d871fe8"
      },
      "outputs": [
        {
          "name": "stdout",
          "output_type": "stream",
          "text": [
            "Pivot Table:\n",
            " B    4    5    6\n",
            "A               \n",
            "1  7.0  NaN  NaN\n",
            "2  NaN  8.0  NaN\n",
            "3  NaN  NaN  9.0\n"
          ]
        }
      ],
      "source": [
        "# Pivot Tables\n",
        "pivot_df = df.pivot_table(values='C', index='A', columns='B', aggfunc='mean')\n",
        "print(\"Pivot Table:\\n\", pivot_df)"
      ]
    },
    {
      "cell_type": "code",
      "execution_count": null,
      "metadata": {
        "id": "p6k52wdC4SaA",
        "outputId": "ff295136-c3b5-42e0-a75d-c4d872a3af57"
      },
      "outputs": [
        {
          "name": "stdout",
          "output_type": "stream",
          "text": [
            "DataFrame with Date Index:\n",
            "             A  B  C\n",
            "date               \n",
            "2020-01-01  1  4  7\n",
            "2020-01-02  2  5  8\n",
            "2020-01-03  3  6  9\n",
            "Resampled DataFrame:\n",
            "               A    B    C\n",
            "date                     \n",
            "2020-01-31  2.0  5.0  8.0\n"
          ]
        }
      ],
      "source": [
        "# Time Series Analysis\n",
        "df['date'] = pd.date_range(start='1/1/2020', periods=len(df), freq='D')\n",
        "df.set_index('date', inplace=True)\n",
        "print(\"DataFrame with Date Index:\\n\", df)\n",
        "resampled_df = df.resample('M').mean()\n",
        "print(\"Resampled DataFrame:\\n\", resampled_df)"
      ]
    },
    {
      "cell_type": "code",
      "execution_count": null,
      "metadata": {
        "id": "62Ns6xe14SaA"
      },
      "outputs": [],
      "source": []
    }
  ],
  "metadata": {
    "kernelspec": {
      "display_name": "Python 3",
      "language": "python",
      "name": "python3"
    },
    "language_info": {
      "codemirror_mode": {
        "name": "ipython",
        "version": 3
      },
      "file_extension": ".py",
      "mimetype": "text/x-python",
      "name": "python",
      "nbconvert_exporter": "python",
      "pygments_lexer": "ipython3",
      "version": "3.11.5"
    },
    "colab": {
      "provenance": []
    }
  },
  "nbformat": 4,
  "nbformat_minor": 0
}